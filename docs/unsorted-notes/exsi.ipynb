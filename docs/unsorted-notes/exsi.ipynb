{
 "cells": [
  {
   "cell_type": "markdown",
   "metadata": {},
   "source": [
    "## Ubuntu\n",
    "\n",
    "Prevent auto updating process in image https://gist.github.com/Voronenko/8af5c91c2380787993d2a2cf58ad1187\n",
    "```sh\n",
    "\n",
    "#!/bin/bash\n",
    "\n",
    "systemctl stop apt-daily.service\n",
    "systemctl kill --kill-who=all apt-daily.service\n",
    "\n",
    "# wait until `apt-get updated` has been killed\n",
    "while ! (systemctl list-units --all apt-daily.service | fgrep -q dead)\n",
    "do\n",
    "  sleep 1;\n",
    "done\n",
    "\n",
    "# systemctl mask apt-daily.service apt-daily-upgrade.service\n",
    "\n",
    "```\n"
   ]
  }
 ],
 "metadata": {
  "kernelspec": {
   "display_name": "Python 3",
   "language": "python",
   "name": "python3"
  },
  "language_info": {
   "codemirror_mode": {
    "name": "ipython",
    "version": 3
   },
   "file_extension": ".py",
   "mimetype": "text/x-python",
   "name": "python",
   "nbconvert_exporter": "python",
   "pygments_lexer": "ipython3",
   "version": "3.7.0"
  }
 },
 "nbformat": 4,
 "nbformat_minor": 2
}
