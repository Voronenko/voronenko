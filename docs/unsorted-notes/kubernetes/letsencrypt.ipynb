{
 "cells": [
  {
   "cell_type": "markdown",
   "metadata": {},
   "source": [
    "As you might now, letsencrypt ssl certificates officially reached production state, see  https://community.letsencrypt.org/t/acme-v2-production-environment-wildcards/55578 .\n",
    "\n",
    "It is time to give it a try. I have two DNS providers in use: Godaddy and Cloudflare, thus I had two use to different methods to make things happen.\n",
    "At a moment of article writing, certbot was not supporting latest features, thus I had to install latest from sources:"
   ]
  },
  {
   "cell_type": "markdown",
   "metadata": {},
   "source": [
    "```sh\n",
    "git clone git@github.com:certbot/certbot.git && cd certbot\n",
    "sudo python setup.py install\n",
    "```\n",
    "\n",
    "Wildcard certificates require dns validation. Thus, once you installed certbot, look for plugins that support your DNS provider.\n",
    "\n",
    "In my case there was cloudflare plugin, thus for that domain I was able to achieve fully automatic generation/renewal"
   ]
  },
  {
   "cell_type": "code",
   "execution_count": 1,
   "metadata": {},
   "outputs": [
    {
     "name": "stdout",
     "output_type": "stream",
     "text": [
      "\n",
      "-------------------------------------------------------------------------------\n",
      "* standalone\n",
      "Description: Spin up a temporary webserver\n",
      "Interfaces: IAuthenticator, IPlugin\n",
      "Entry point: standalone = certbot.plugins.standalone:Authenticator\n",
      "\n",
      "* webroot\n",
      "Description: Place files in webroot directory\n",
      "Interfaces: IAuthenticator, IPlugin\n",
      "Entry point: webroot = certbot.plugins.webroot:Authenticator\n",
      "-------------------------------------------------------------------------------\n"
     ]
    }
   ],
   "source": [
    "%%bash\n",
    "certbot plugins"
   ]
  },
  {
   "cell_type": "markdown",
   "metadata": {},
   "source": [
    "```sh\n",
    "ls | grep certbot-dns\n",
    "certbot-dns-cloudflare\n",
    "certbot-dns-cloudxns\n",
    "certbot-dns-digitalocean\n",
    "certbot-dns-dnsimple\n",
    "certbot-dns-dnsmadeeasy\n",
    "certbot-dns-google\n",
    "certbot-dns-luadns\n",
    "certbot-dns-nsone\n",
    "certbot-dns-rfc2136\n",
    "certbot-dns-route53\n",
    "```"
   ]
  },
  {
   "cell_type": "markdown",
   "metadata": {},
   "source": [
    "```sh\n",
    "cd certbot-dns-cloudflare \n",
    "sudo python setup.py install\n",
    "\n",
    "```"
   ]
  },
  {
   "cell_type": "markdown",
   "metadata": {},
   "source": [
    "## Clould flare installation\n",
    "\n",
    "To use the authenticator plugin with CloudFlare, you need to provide CloudFlare api key to the bot so it can edit the domain entries to add validation TXT entry to verify you control the domain. This of course means, that you should take care on configuration files with key.\n",
    "\n",
    "\n",
    "You obtain the Global API key in CloudFlare from your user profile,"
   ]
  },
  {
   "cell_type": "markdown",
   "metadata": {},
   "source": [
    "Put these keys into a configuration file. Certbot uses a default directory`/etc/letsencrypt`.  We need to create file \n",
    "`/etc/letsencrypt/dnscloudflare.ini` to store credentials from CloudFlare.  \n",
    "\n",
    "```\n",
    "# CloudFlare API key information\n",
    "dns_cloudflare_api_key = yourcloudflarekey\n",
    "dns_cloudflare_email = yourcloudflarelogin\n",
    "```\n",
    "\n",
    "Ensure file is readable only by allowed persons, saying root.\n",
    "\n",
    "```sh\n",
    "chmod 600 /etc/letsencrypt/dnscloudflare.ini\n",
    "```"
   ]
  },
  {
   "cell_type": "markdown",
   "metadata": {},
   "source": [
    "## Certbot Configuration Settings\n",
    "Wildcard certificates are only available via the v2 API, which I haven't found in certbot installed from packages, so I had to amend configuration to tell certbot server parameter. Certbot uses the `/etc/letsencrypt/cli.ini`\n",
    "```\n",
    "# Let's Encrypt site-wide configuration\n",
    "dns-cloudflare-credentials = /etc/letsencrypt/dnscloudflare.ini\n",
    "# Use the ACME v2 staging URI for testing things\n",
    "#server = https://acme-staging-v02.api.letsencrypt.org/directory\n",
    "# Production ACME v2 API endpoint\n",
    "server = https://acme-v02.api.letsencrypt.org/directory\n",
    "```"
   ]
  },
  {
   "cell_type": "markdown",
   "metadata": {},
   "source": [
    "## Generating certificate in automatic mode with ClouldFlare pluging\n",
    "\n",
    "```sh\n",
    "sudo certbot certonly -d *.voronenko.info --dns-cloudflare --agree-tos\n",
    "Saving debug log to /var/log/letsencrypt/letsencrypt.log\n",
    "Plugins selected: Authenticator dns-cloudflare, Installer None\n",
    "Starting new HTTPS connection (1): acme-v02.api.letsencrypt.org\n",
    "\n",
    "Obtaining a new certificate\n",
    "Performing the following challenges:\n",
    "dns-01 challenge for voronenko.info\n",
    "Starting new HTTPS connection (1): api.cloudflare.com\n",
    "Waiting 10 seconds for DNS changes to propagate\n",
    "Waiting for verification...\n",
    "Cleaning up challenges\n",
    "Starting new HTTPS connection (1): api.cloudflare.com\n",
    "\n",
    "IMPORTANT NOTES:\n",
    " - Congratulations! Your certificate and chain have been saved at:\n",
    "   /etc/letsencrypt/live/voronenko.info/fullchain.pem\n",
    "   Your key file has been saved at:\n",
    "   /etc/letsencrypt/live/voronenko.info/privkey.pem\n",
    "   Your cert will expire on 2018-06-19. To obtain a new or tweaked\n",
    "   version of this certificate in the future, simply run certbot\n",
    "   again. To non-interactively renew *all* of your certificates, run\n",
    "   \"certbot renew\"\n",
    "\n",
    "```"
   ]
  },
  {
   "cell_type": "markdown",
   "metadata": {},
   "source": [
    "## Case 2: not supported DNS provider"
   ]
  },
  {
   "cell_type": "markdown",
   "metadata": {},
   "source": [
    "I have also another domain, used for open source activities. For that domain I had to add validation entry manually.\n",
    "Command is slightly different, note that most of -- parameters might go config files. If you have improvements, comments are welcomed.\n",
    "\n",
    "```sh\n",
    "certbot certonly --manual -d *.softasap.com --agree-tos --no-bootstrap --manual-public-ip-logging-ok --preferred-challenges dns-01 --server https://acme-v02.api.letsencrypt.org/directory\n",
    "```"
   ]
  },
  {
   "cell_type": "markdown",
   "metadata": {},
   "source": [
    "During the command run you are asked to put TXT entry into DNS records, and wait for change to propagate\n",
    "\n",
    "```sh\n",
    "sudo certbot certonly --manual -d *.softasap.com --agree-tos --no-bootstrap --manual-public-ip-logging-ok --preferred-challenges dns-01 --server https://acme-v02.api.letsencrypt.org/directory\n",
    "Saving debug log to /var/log/letsencrypt/letsencrypt.log\n",
    "Plugins selected: Authenticator manual, Installer None\n",
    "Starting new HTTPS connection (1): acme-v02.api.letsencrypt.org\n",
    "Obtaining a new certificate\n",
    "Performing the following challenges:\n",
    "dns-01 challenge for softasap.com\n",
    "\n",
    "-------------------------------------------------------------------------------\n",
    "Please deploy a DNS TXT record under the name\n",
    "_acme-challenge.softasap.com with the following value:\n",
    "\n",
    "12KCzU4bv-FTzjeFZi8zIaEUm049VyHv1DIApg78nmY\n",
    "\n",
    "Before continuing, verify the record is deployed.\n",
    "-------------------------------------------------------------------------------\n",
    "Press Enter to Continue\n",
    "Waiting for verification...\n",
    "Cleaning up challenges\n",
    "\n",
    "IMPORTANT NOTES:\n",
    " - Congratulations! Your certificate and chain have been saved at:\n",
    "   /etc/letsencrypt/live/softasap.com/fullchain.pem\n",
    "   Your key file has been saved at:\n",
    "   /etc/letsencrypt/live/softasap.com/privkey.pem\n",
    "   Your cert will expire on 2018-06-19. To obtain a new or tweaked\n",
    "   version of this certificate in the future, simply run certbot\n",
    "   again. To non-interactively renew *all* of your certificates, run\n",
    "   \"certbot renew\"\n",
    "```"
   ]
  },
  {
   "cell_type": "markdown",
   "metadata": {},
   "source": [
    "## Summary\n",
    "\n",
    "We've successfully used new letsencrypt API go generate wildcard certificate in fully automated mode as well as in manual mode"
   ]
  },
  {
   "cell_type": "code",
   "execution_count": null,
   "metadata": {},
   "outputs": [],
   "source": []
  }
 ],
 "metadata": {
  "kernelspec": {
   "display_name": "Python 3",
   "language": "python",
   "name": "python3"
  },
  "language_info": {
   "codemirror_mode": {
    "name": "ipython",
    "version": 3
   },
   "file_extension": ".py",
   "mimetype": "text/x-python",
   "name": "python",
   "nbconvert_exporter": "python",
   "pygments_lexer": "ipython3",
   "version": "3.5.2"
  }
 },
 "nbformat": 4,
 "nbformat_minor": 2
}
