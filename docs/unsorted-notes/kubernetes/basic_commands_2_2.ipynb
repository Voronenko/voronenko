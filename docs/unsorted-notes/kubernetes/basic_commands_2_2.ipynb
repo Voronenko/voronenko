{
 "cells": [
  {
   "cell_type": "markdown",
   "metadata": {},
   "source": [
    "```sh\n",
    "$ kubectl get deployments\n",
    "NAME                  DESIRED   CURRENT   UP-TO-DATE   AVAILABLE   AGE\n",
    "kubernetes-bootcamp   4         4         4            4           48s\n",
    "$ kubectl get pods\n",
    "NAME                                   READY     STATUS    RESTARTS   AGE\n",
    "kubernetes-bootcamp-5dbf48f7d4-6s9n9   1/1       Running   0          57s\n",
    "kubernetes-bootcamp-5dbf48f7d4-qcql6   1/1       Running   0          57s\n",
    "kubernetes-bootcamp-5dbf48f7d4-vtxrr   1/1       Running   0          57s\n",
    "kubernetes-bootcamp-5dbf48f7d4-xjslz   1/1       Running   0          57s\n",
    "```"
   ]
  },
  {
   "cell_type": "markdown",
   "metadata": {},
   "source": [
    "```sh\n",
    " kubectl set image deployments/kubernetes-bootcamp kubernetes-bootcamp=jocatalin/kubernetes-bootcamp:v2\n",
    "deployment \"kubernetes-bootcamp\" image updated\n",
    "```\n",
    "\n",
    "```sh\n",
    "$ kubectl rollout status deployments/kubernetes-bootcamp\n",
    "deployment \"kubernetes-bootcamp\" successfully rolled out\n",
    "```"
   ]
  },
  {
   "cell_type": "markdown",
   "metadata": {},
   "source": [
    "```sh\n",
    "$ kubectl set image deployments/kubernetes-bootcamp kubernetes-bootcamp=gcr.io/google-samples/kubernetes-bootcamp:v10\n",
    "deployment \"kubernetes-bootcamp\" image updated\n",
    "$ kubectl get pods\n",
    "NAME                                   READY     STATUS             RESTARTS   AGE\n",
    "kubernetes-bootcamp-5569c6b8d6-2tj8k   0/1       ErrImagePull       0          11s\n",
    "kubernetes-bootcamp-5569c6b8d6-jrqtk   0/1       ImagePullBackOff   0          11s\n",
    "kubernetes-bootcamp-7689dc585d-d5xqz   1/1       Running            0          3m\n",
    "kubernetes-bootcamp-7689dc585d-l6wp9   1/1       Terminating        0          1m\n",
    "kubernetes-bootcamp-7689dc585d-vn282   1/1       Running            0          3m\n",
    "kubernetes-bootcamp-7689dc585d-x6hhf   1/1       Running            0          3m\n",
    "$ kubectl rollout undo deployments/kubernetes-bootcamp\n",
    "deployment \"kubernetes-bootcamp\"\n",
    "$ kubectl get pods\n",
    "NAME                                   READY     STATUS        RESTARTS   AGE\n",
    "kubernetes-bootcamp-7689dc585d-8tg24   1/1       Running       0          3s\n",
    "kubernetes-bootcamp-7689dc585d-d5xqz   1/1       Running       0          3m\n",
    "kubernetes-bootcamp-7689dc585d-l6wp9   1/1       Terminating   0          1m\n",
    "kubernetes-bootcamp-7689dc585d-vn282   1/1       Running       0          3m\n",
    "kubernetes-bootcamp-7689dc585d-x6hhf   1/1       Running       0          3m\n",
    "```"
   ]
  }
 ],
 "metadata": {
  "kernelspec": {
   "display_name": "Python 3",
   "language": "python",
   "name": "python3"
  },
  "language_info": {
   "codemirror_mode": {
    "name": "ipython",
    "version": 3
   },
   "file_extension": ".py",
   "mimetype": "text/x-python",
   "name": "python",
   "nbconvert_exporter": "python",
   "pygments_lexer": "ipython3",
   "version": "3.5.2"
  }
 },
 "nbformat": 4,
 "nbformat_minor": 2
}
