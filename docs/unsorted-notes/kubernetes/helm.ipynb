{
 "cells": [
  {
   "cell_type": "code",
   "execution_count": 1,
   "metadata": {},
   "outputs": [
    {
     "name": "stdout",
     "output_type": "stream",
     "text": [
      "MINIKUBE\n"
     ]
    }
   ],
   "source": [
    "%%bash\n",
    "kubectl config current-context"
   ]
  },
  {
   "cell_type": "code",
   "execution_count": 2,
   "metadata": {},
   "outputs": [
    {
     "name": "stdout",
     "output_type": "stream",
     "text": [
      "Creating /home/slavko/.helm \n",
      "Creating /home/slavko/.helm/repository \n",
      "Creating /home/slavko/.helm/repository/cache \n",
      "Creating /home/slavko/.helm/repository/local \n",
      "Creating /home/slavko/.helm/plugins \n",
      "Creating /home/slavko/.helm/starters \n",
      "Creating /home/slavko/.helm/cache/archive \n",
      "Creating /home/slavko/.helm/repository/repositories.yaml \n",
      "Adding stable repo with URL: https://kubernetes-charts.storage.googleapis.com \n",
      "Adding local repo with URL: http://127.0.0.1:8879/charts \n",
      "$HELM_HOME has been configured at /home/slavko/.helm.\n"
     ]
    },
    {
     "name": "stderr",
     "output_type": "stream",
     "text": [
      "Error: error installing: Post https://192.168.2.89:8443/apis/extensions/v1beta1/namespaces/kube-system/deployments: dial tcp 192.168.2.89:8443: getsockopt: connection refused\n"
     ]
    }
   ],
   "source": [
    "%%bash\n",
    "helm init"
   ]
  },
  {
   "cell_type": "code",
   "execution_count": null,
   "metadata": {},
   "outputs": [],
   "source": []
  }
 ],
 "metadata": {
  "kernelspec": {
   "display_name": "Python 3",
   "language": "python",
   "name": "python3"
  },
  "language_info": {
   "codemirror_mode": {
    "name": "ipython",
    "version": 3
   },
   "file_extension": ".py",
   "mimetype": "text/x-python",
   "name": "python",
   "nbconvert_exporter": "python",
   "pygments_lexer": "ipython3",
   "version": "3.5.2"
  }
 },
 "nbformat": 4,
 "nbformat_minor": 2
}
