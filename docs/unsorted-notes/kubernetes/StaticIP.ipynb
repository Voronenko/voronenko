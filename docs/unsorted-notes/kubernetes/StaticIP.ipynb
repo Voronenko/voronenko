{
 "cells": [
  {
   "cell_type": "markdown",
   "metadata": {},
   "source": [
    "It is actually now supported (even though under documented):\n",
    "\n",
    "```\n",
    "Check that you're running Kubernetes 1.1 or later (under GKE edit your cluster and check \"Node version\")\n",
    "Allocate static IPs under Networking > External IP addresses, either:\n",
    "Deploy once without loadBalancerIP, wait until you've an external IP allocated when you run kubectl get svc, and look up that IP in the list on that page and change those from Ephemeral to Static.\n",
    "Click \"Reserver a static address\" regional in the region of your cluster, attached to None.\n",
    "Edit your LoadBalancer to have loadBalancerIP=10.10.10.10 as above (adapt to the IP that was given to you by Google).\n",
    "Now if you delete your LoadBalancer or even your namespace, it'll preserve that IP address upon re-reploying on that cluster.\n",
    "```"
   ]
  },
  {
   "cell_type": "markdown",
   "metadata": {},
   "source": [
    "https://cloud.google.com/kubernetes-engine/docs/tutorials/http-balancer"
   ]
  },
  {
   "cell_type": "markdown",
   "metadata": {},
   "source": [
    "https://beroux.com/english/articles/kubernetes/?part=2"
   ]
  }
 ],
 "metadata": {
  "kernelspec": {
   "display_name": "Python 3",
   "language": "python",
   "name": "python3"
  },
  "language_info": {
   "codemirror_mode": {
    "name": "ipython",
    "version": 3
   },
   "file_extension": ".py",
   "mimetype": "text/x-python",
   "name": "python",
   "nbconvert_exporter": "python",
   "pygments_lexer": "ipython3",
   "version": "3.5.2"
  }
 },
 "nbformat": 4,
 "nbformat_minor": 2
}
