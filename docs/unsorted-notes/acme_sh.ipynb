{
 "cells": [
  {
   "cell_type": "markdown",
   "metadata": {},
   "source": [
    "We are using acme.sh console helper https://github.com/Neilpang/acme.sh to deal with certificates (no 3rd party deps, pure shell).\n",
    "Ideally, we should use some of the supported DNS providers to automate https://github.com/Neilpang/acme.sh/wiki/dnsapi\n",
    "\n",
    "but if you don't have automated access to DNS at a moment, also it is possible to issue wildcard certificate using manual DNS challenge.\n",
    "\n",
    "Under the root:\n",
    "\n",
    "Initial run\n",
    "\n",
    "```\n",
    "acme.sh --dns --issue -d \"*.dev.something.today\" --yes-I-know-dns-manual-mode-enough-go-ahead-please\n",
    "```\n",
    "\n",
    ".. adding txt record as required, after that\n",
    "\n",
    "```\n",
    "acme.sh --dns --issue -d \"*.dev.something.today\" --yes-I-know-dns-manual-mode-enough-go-ahead-please --renew\n",
    "```\n",
    "\n",
    "Once certificate is obtained, it can be installed into place your application expects to find it.\n",
    "\n",
    "```\n",
    "acme.sh --install-cert -d \"*.dev.something.today\" --cert-file /root/letsencrypt/config/live/dev.something.today/cert.pem --key-file /root/letsencrypt/config/live/dev.something.today/privkey.pem --fullchain-file /root/letsencrypt/config/live/dev.something.today/fullchain.pem --reloadcmd \"sudo service nginx restart\"\n",
    "```\n",
    "\n",
    "Ideally, process of renewal should be automated if DNS API is supported."
   ]
  },
  {
   "cell_type": "markdown",
   "metadata": {},
   "source": [
    "Installing from hands (for root)\n",
    "```sh\n",
    "\n",
    "sudo apt-get install socat\n",
    "curl https://get.acme.sh | sh\n",
    "\n",
    "acme.sh --issue --dns dns_aws -d \"*.staging.wowville.com\"\n",
    "\n",
    "```"
   ]
  },
  {
   "cell_type": "markdown",
   "metadata": {},
   "source": [
    "# Installing via web root\n",
    "\n",
    "```sh\n",
    "acme.sh  --issue  -d staging.id.something.com -w /var/www/store/app/\n",
    "```\n",
    "\n",
    "```sh\n",
    "\n",
    "export ACME_DOMAIN=staging.id.something.com\n",
    "export PORTAL_SSL_ROOT=/root/letsencrypt/config/live/staging.id.something.com\n",
    "\n",
    "acme.sh --install-cert -d \"${ACME_DOMAIN}\" \\ \n",
    "        --cert-file \"${PORTAL_SSL_ROOT}/cert.pem\" \\\n",
    "        --key-file \"${PORTAL_SSL_ROOT}/privkey.pem\" \\\n",
    "        --fullchain-file \"${PORTAL_SSL_ROOT}/fullchain.pem\" \\\n",
    "        --reloadcmd \"sudo service nginx restart\"\n",
    "```\n"
   ]
  },
  {
   "cell_type": "code",
   "execution_count": null,
   "metadata": {},
   "outputs": [],
   "source": []
  }
 ],
 "metadata": {
  "kernelspec": {
   "display_name": "Python 3",
   "language": "python",
   "name": "python3"
  },
  "language_info": {
   "codemirror_mode": {
    "name": "ipython",
    "version": 3
   },
   "file_extension": ".py",
   "mimetype": "text/x-python",
   "name": "python",
   "nbconvert_exporter": "python",
   "pygments_lexer": "ipython3",
   "version": "3.7.0"
  }
 },
 "nbformat": 4,
 "nbformat_minor": 2
}
