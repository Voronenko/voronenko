{
 "cells": [
  {
   "cell_type": "markdown",
   "metadata": {},
   "source": [
    "Ubuntu-based distributions (64-bit only)\n",
    "These instructions are for Ubuntu and all distributions based on it (like Linux Mint).\n",
    "\n",
    "sudo add-apt-repository ppa:gns3/ppa\n",
    "sudo apt update                                \n",
    "sudo apt install gns3-gui gns3-server\n",
    "\n",
    "(when prompted whether non-root users should be allowed to use wireshark and ubridge, select ‘Yes’ both times)\n",
    "\n",
    "If_you_want_IOU_support\n",
    "\n",
    "sudo dpkg --add-architecture i386\n",
    "sudo apt update\n",
    "sudo apt install gns3-iou\n",
    "\n",
    "To_install_Docker-CE_(Xenial_and_newer)\n",
    "\n",
    "Remove any old versions:\n",
    "\n",
    "sudo apt remove docker docker-engine docker.io\n",
    "\n",
    "Install the following packages:\n",
    "\n",
    "sudo apt-get install apt-transport-https ca-certificates curl \\ software-properties-common\n",
    "\n",
    "Import the official Docker GPG key:\n",
    "\n",
    "curl -fsSL https://download.docker.com/linux/ubuntu/gpg | sudo apt-key add -\n",
    "\n",
    "Add the appropriate repo:\n",
    "\n",
    "sudo add-apt-repository \\\n",
    "\"deb [arch=amd64] https://download.docker.com/linux/ubuntu \\\n",
    "   $(lsb_release -cs) stable\"\n",
    "\n",
    "Install Docker-CE:\n",
    "\n",
    "sudo apt update\n",
    "sudo apt install docker-ce\n",
    "\n",
    "Finally, add your user to the following groups:\n",
    "\n",
    "ubridge libvirt kvm wireshark docker\n",
    "\n",
    "(use “sudo usermod -aG group user_name” to add your user to each of those groups)\n",
    "\n",
    "Restart your user session by logging out and back in, or restarting the system."
   ]
  }
 ],
 "metadata": {
  "kernelspec": {
   "display_name": "Python 3",
   "language": "python",
   "name": "python3"
  },
  "language_info": {
   "codemirror_mode": {
    "name": "ipython",
    "version": 3
   },
   "file_extension": ".py",
   "mimetype": "text/x-python",
   "name": "python",
   "nbconvert_exporter": "python",
   "pygments_lexer": "ipython3",
   "version": "3.7.0"
  }
 },
 "nbformat": 4,
 "nbformat_minor": 2
}
