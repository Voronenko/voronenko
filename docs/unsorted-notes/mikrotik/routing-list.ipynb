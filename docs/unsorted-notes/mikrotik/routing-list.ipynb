{
 "cells": [
  {
   "cell_type": "markdown",
   "metadata": {},
   "source": [
    "Let's assume that you will be using a PPTP VPN just to demonstrate the commands you need to run.\n",
    "Since PPTP's encryption is broken for a long time now, I suggest you use something more secure (like OpenVPN). The principle is the same regardless of which VPN/tunnel technology you use.\n",
    "\n",
    "So first you create the VPN without adding a default gateway route.\n",
    "```\n",
    "/interface pptp-client\n",
    "add add-default-route=no allow=pap,chap,mschap1,mschap2 connect-to=VPN_SERVER_IP \\\n",
    "dial-on-demand=no disabled=no max-mru=1440 max-mtu=1440 mrru=dis \\\n",
    "name=VPN_NAME password=\"MY_STRONG_PASSWORD\" profile=default-encryption user=USERNAME\n",
    "```\n",
    "Then you create a new routing table by adding a default gateway via the VPN with a new routing mark vpn. This will allow you to route packets via the VPN.\n",
    "\n",
    "```\n",
    "/ip route add dst-address=0.0.0.0/0 distance=1 gateway=VPN_GATEWAY_IP routing-mark=vpn\n",
    "```\n",
    "The next route is optional in case you want to block outgoing traffic if the VPN is down:\n",
    "\n",
    "```\n",
    "/ip route add dst-address=0.0.0.0/0 type=unreachable distance=2 routing-mark=vpn\n",
    "```\n",
    "We also need to do some NAT for the packets that will be leaving via the VPN interface.\n",
    "\n",
    "```\n",
    "/ip firewall nat add chain=srcnat out-interface=VPN_NAME action=masquerade\n",
    "```\n",
    "Now we add the mangle rule that will match the destination IPs we want and do a mark-routing on them so that they will use the vpn route table we created.\n",
    "\n",
    "```\n",
    "/ip firewall mangle add chain=prerouting dst-address-list=VPN action=mark-routing new-routing-mark=vpn\n",
    "```\n",
    "Finally we create an Address List on the firewall with the IPs that we want to route via the VPN.\n",
    "\n",
    "```\n",
    "/ip firewall address-list add list=VPN address=1.1.1.1\n",
    "/ip firewall address-list add list=VPN address=2.2.2.2\n",
    "/ip firewall address-list add list=VPN address=3.3.3.3\n",
    "/ip firewall address-list add list=VPN address=4.4.4.4\n",
    "```\n",
    "You repeat the last rule as many times as you need for as many IPs as you want to route via the VPN.\n",
    "\n",
    "Keep in mind that the rules above do not provide any security as to who behind your router will be able to access the VPN etc. You may need to add appropriate source IPs checks on the rules to make them more secure.\n",
    "\n",
    "Also this method will route whole IPs via the VPN. If you need to route specific ports/protocols via the VPN you simply create additional mangle rules that match whatever you need and do mark-routing on them."
   ]
  }
 ],
 "metadata": {
  "kernelspec": {
   "display_name": "Python 3",
   "language": "python",
   "name": "python3"
  },
  "language_info": {
   "codemirror_mode": {
    "name": "ipython",
    "version": 3
   },
   "file_extension": ".py",
   "mimetype": "text/x-python",
   "name": "python",
   "nbconvert_exporter": "python",
   "pygments_lexer": "ipython3",
   "version": "3.7.0"
  }
 },
 "nbformat": 4,
 "nbformat_minor": 2
}
