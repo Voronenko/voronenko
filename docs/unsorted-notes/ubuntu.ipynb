{
 "cells": [
  {
   "cell_type": "markdown",
   "metadata": {},
   "source": [
    "## Snaps\n",
    "\n",
    "Clean previous versions of snaps https://gist.github.com/Voronenko/5ff82f9c09c9e193a084f5bd8a97e570\n",
    "```\n",
    "#!/bin/bash\n",
    "\n",
    "snap list --all | while read snapname ver rev trk pub notes; do if [[ $notes = *disabled* ]]; then snap remove \"$snapname\" --revision=\"$rev\"; fi; done\n",
    "```"
   ]
  },
  {
   "cell_type": "markdown",
   "metadata": {},
   "source": [
    "## Filesystems\n",
    "\n",
    "Remount partitions from /etc/fstab, except the partitions with noauto option.\n",
    "\n",
    "```\n",
    "sudo mount -a\n",
    "```\n"
   ]
  }
 ],
 "metadata": {
  "kernelspec": {
   "display_name": "Python 3",
   "language": "python",
   "name": "python3"
  },
  "language_info": {
   "codemirror_mode": {
    "name": "ipython",
    "version": 3
   },
   "file_extension": ".py",
   "mimetype": "text/x-python",
   "name": "python",
   "nbconvert_exporter": "python",
   "pygments_lexer": "ipython3",
   "version": "3.7.0"
  }
 },
 "nbformat": 4,
 "nbformat_minor": 2
}
