{
 "cells": [
  {
   "cell_type": "markdown",
   "metadata": {},
   "source": [
    "## blast-radius\n",
    "Interactive visualizations of Terraform dependency graphs using d3.js \n",
    "https://github.com/softasap/blast-radius\n",
    "\n",
    "```sh\n",
    "pip install blastradius\n",
    "blast-radius --serve /path/to/terraform/directory\n",
    "```\n",
    "\n",
    "```yaml\n",
    "\n",
    "version: '3.7'\n",
    "services:\n",
    "\n",
    "  blastradius:\n",
    "    image: 28mm/blast-radius\n",
    "    cap_add:\n",
    "      - SYS_ADMIN\n",
    "    security_opt:\n",
    "      - apparmor:unconfined\n",
    "    environment:\n",
    "      - TF_CLI_CONFIG_FILE=/root/.terraformrc\n",
    "      - TF_WORKSPACE=dev\n",
    "    ports:\n",
    "      - \"5000:5000\"\n",
    "    volumes:\n",
    "      - \"$HOME/.terraformrc:/root/.terraformrc\"\n",
    "      - \".:/data:ro\"\n",
    "```      \n",
    "\n",
    "\n"
   ]
  }
 ],
 "metadata": {
  "kernelspec": {
   "display_name": "Python 3",
   "language": "python",
   "name": "python3"
  },
  "language_info": {
   "codemirror_mode": {
    "name": "ipython",
    "version": 3
   },
   "file_extension": ".py",
   "mimetype": "text/x-python",
   "name": "python",
   "nbconvert_exporter": "python",
   "pygments_lexer": "ipython3",
   "version": "3.6.10"
  }
 },
 "nbformat": 4,
 "nbformat_minor": 4
}
