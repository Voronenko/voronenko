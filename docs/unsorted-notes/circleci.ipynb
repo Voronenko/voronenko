{
 "cells": [
  {
   "cell_type": "markdown",
   "metadata": {},
   "source": [
    "## Passing artifacts\n",
    "\n",
    "https://circleci.com/docs/2.0/workflows/#using-workspaces-to-share-data-among-jobs\n",
    "\n",
    "```yaml\n",
    "\n",
    "version: 2.1\n",
    "\n",
    "executors:\n",
    "  my-executor:\n",
    "    docker:\n",
    "      - image: buildpack-deps:jessie\n",
    "    working_directory: /tmp\n",
    "\n",
    "jobs:\n",
    "  flow:\n",
    "    executor: my-executor\n",
    "    steps:\n",
    "      - run: mkdir -p workspace\n",
    "      - run: echo \"Hello, world!\" > workspace/echo-output\n",
    "      \n",
    "      # Persist the specified paths (workspace/echo-output) into the workspace for use in downstream job. \n",
    "      - persist_to_workspace:\n",
    "          # Must be an absolute path, or relative path from working_directory. This is a directory on the container which is \n",
    "          # taken to be the root directory of the workspace.\n",
    "          root: workspace\n",
    "          # Must be relative path from root\n",
    "          paths:\n",
    "            - echo-output\n",
    "\n",
    "  downstream:\n",
    "    executor: my-executor\n",
    "    steps:\n",
    "      - attach_workspace:\n",
    "          # Must be absolute path or relative path from working_directory\n",
    "          at: /tmp/workspace\n",
    "\n",
    "      - run: |\n",
    "          if [[ `cat /tmp/workspace/echo-output` == \"Hello, world!\" ]]; then\n",
    "            echo \"It worked!\";\n",
    "          else\n",
    "            echo \"Nope!\"; exit 1\n",
    "          fi\n",
    "\n",
    "workflows:\n",
    "  version: 2\n",
    "\n",
    "  btd:\n",
    "    jobs:\n",
    "      - flow\n",
    "      - downstream:\n",
    "          requires:\n",
    "            - flow\n",
    "\n",
    "```"
   ]
  }
 ],
 "metadata": {
  "kernelspec": {
   "display_name": "Python 3",
   "language": "python",
   "name": "python3"
  },
  "language_info": {
   "codemirror_mode": {
    "name": "ipython",
    "version": 3
   },
   "file_extension": ".py",
   "mimetype": "text/x-python",
   "name": "python",
   "nbconvert_exporter": "python",
   "pygments_lexer": "ipython3",
   "version": "3.7.0"
  }
 },
 "nbformat": 4,
 "nbformat_minor": 2
}
