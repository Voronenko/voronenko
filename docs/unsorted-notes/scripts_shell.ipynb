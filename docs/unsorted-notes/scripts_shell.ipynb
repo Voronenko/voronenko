{
 "cells": [
  {
   "cell_type": "markdown",
   "metadata": {},
   "source": [
    "Shell script template https://gist.github.com/Voronenko/78399da949323ec49ea67a221a78c0cb\n",
    "\n",
    "```sh\n",
    "# Write safe shell scripts\n",
    "set -euf -o pipefail\n",
    "# Keep environment clean\n",
    "export LC_ALL=\"C\"\n",
    "# Set variables\n",
    "readonly TMP_DIR=\"/tmp\"\n",
    "readonly TMP_OUTPUT=\"${TMP_DIR}/$$.out\"\n",
    "readonly BASE_DIR=\"$(dirname \"$(realpath \"$0\")\")\"\n",
    "readonly MY_NAME=\"${0##*/}\"\n",
    "# Colours\n",
    "readonly C_NOC=\"\\\\033[0m\"    # No colour\n",
    "readonly C_RED=\"\\\\033[0;31m\" # Red\n",
    "readonly C_GRN=\"\\\\033[0;32m\" # Green\n",
    "readonly C_BLU=\"\\\\033[0;34m\" # Blue\n",
    "readonly C_PUR=\"\\\\033[0;35m\" # Purple\n",
    "readonly C_CYA=\"\\\\033[0;36m\" # Cyan\n",
    "readonly C_WHI=\"\\\\033[0;37m\" # White\n",
    "### Helper functions\n",
    "print_red () { local i; for i in \"$@\"; do echo -e \"${C_RED}${i}${C_NOC}\"; done }\n",
    "print_grn () { local i; for i in \"$@\"; do echo -e \"${C_GRN}${i}${C_NOC}\"; done }\n",
    "print_blu () { local i; for i in \"$@\"; do echo -e \"${C_BLU}${i}${C_NOC}\"; done }\n",
    "print_pur () { local i; for i in \"$@\"; do echo -e \"${C_PUR}${i}${C_NOC}\"; done }\n",
    "print_cya () { local i; for i in \"$@\"; do echo -e \"${C_CYA}${i}${C_NOC}\"; done }\n",
    "print_whi () { local i; for i in \"$@\"; do echo -e \"${C_WHI}${i}${C_NOC}\"; done }\n",
    "\n",
    "# Cleanup on exit\n",
    "trap 'rm -rf ${TMP_OUTPUT}' \\\n",
    "  EXIT SIGHUP SIGINT SIGQUIT SIGPIPE SIGTERM\n",
    "```"
   ]
  }
 ],
 "metadata": {
  "kernelspec": {
   "display_name": "Python 3",
   "language": "python",
   "name": "python3"
  },
  "language_info": {
   "codemirror_mode": {
    "name": "ipython",
    "version": 3
   },
   "file_extension": ".py",
   "mimetype": "text/x-python",
   "name": "python",
   "nbconvert_exporter": "python",
   "pygments_lexer": "ipython3",
   "version": "3.7.0"
  }
 },
 "nbformat": 4,
 "nbformat_minor": 2
}
