{
 "cells": [
  {
   "cell_type": "markdown",
   "metadata": {},
   "source": [
    "# Adding environment variables to APP Pool\n",
    "\n",
    "Source: https://docs.microsoft.com/en-us/iis/configuration/system.applicationhost/applicationpools/add/environmentvariables/\n",
    "\n",
    "The following example adds an environment variable to an application pool.\n",
    "\n",
    "```xml\n",
    "\n",
    "<applicationPools>\n",
    "   <add name=\"Contoso\" managedRuntimeVersion=\"v4.0\" managedPipelineMode=\"Classic\">\n",
    "      <environmentVariables>\n",
    "         <add name=\"foo\" value=\"bar\" />\n",
    "      </environmentVariables>\n",
    "   </add>\n",
    "</applicationPools>\n",
    "\n",
    "```\n",
    "\n",
    "you can also add environment vars using `appcmd` tool\n",
    "\n",
    "```cmd\n",
    "\n",
    "%systemroot%\\system32\\inetsrv\\appcmd.exe set config -section:system.applicationHost/applicationPools /+\"[name='Contoso'].environmentVariables.[name='foo',value='bar']\" /commit:apphost\n",
    "\n",
    "```\n",
    "\n"
   ]
  }
 ],
 "metadata": {
  "kernelspec": {
   "display_name": "Python 3",
   "language": "python",
   "name": "python3"
  },
  "language_info": {
   "codemirror_mode": {
    "name": "ipython",
    "version": 3
   },
   "file_extension": ".py",
   "mimetype": "text/x-python",
   "name": "python",
   "nbconvert_exporter": "python",
   "pygments_lexer": "ipython3",
   "version": "3.6.10"
  }
 },
 "nbformat": 4,
 "nbformat_minor": 4
}
