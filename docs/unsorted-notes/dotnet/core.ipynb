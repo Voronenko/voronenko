{
 "cells": [
  {
   "cell_type": "markdown",
   "metadata": {},
   "source": [
    "\n",
    "Detect installed sdk\n",
    "\n",
    "```sh\n",
    "dotnet --list-sdks\n",
    "```\n",
    "\n",
    "Detect installed runtimes\n",
    "\n",
    "```sh\n",
    "dotnet --list-runtime\n",
    "```\n",
    "\n",
    "Switch core sdk in csproj\n",
    "\n",
    "```xml\n",
    "<Project Sdk=\"Microsoft.NET.Sdk\">\n",
    "  <PropertyGroup>\n",
    "    <OutputType>Exe</OutputType>\n",
    "    <TargetFramework>netcoreapp2.1</TargetFramework>\n",
    "  </PropertyGroup>\n",
    "</Project>\n",
    "```\n",
    "\n",
    "Control version of net core used in a commandline, i.e. `dotnet` - `global.json` - searchable from current folder and above\n",
    "\n",
    "```\n",
    "{\n",
    "  \"sdk\": {\n",
    "    \"version\": \"2.1.103\"\n",
    "  }\n",
    "}\n",
    "```\n",
    "\n",
    "You can easily create a global.json file in the current working folder with the `dotnet new globaljson` command. \n",
    "This will create a global.json file and pre-populate it with the latest version of the SDK available. \n",
    "You can specify version that gets written --sdk-version argument\n",
    "\n",
    "```sh\n",
    "dotnet new globaljson --sdk-version 2.0.2\n",
    "```\n",
    "\n",
    "Seems no widely used helpers like nvm, only initial approaches  https://github.com/faniereynders/dotnet-sdk-helpers\n"
   ]
  }
 ],
 "metadata": {
  "kernelspec": {
   "display_name": "Python 3",
   "language": "python",
   "name": "python3"
  },
  "language_info": {
   "codemirror_mode": {
    "name": "ipython",
    "version": 3
   },
   "file_extension": ".py",
   "mimetype": "text/x-python",
   "name": "python",
   "nbconvert_exporter": "python",
   "pygments_lexer": "ipython3",
   "version": "3.6.10"
  }
 },
 "nbformat": 4,
 "nbformat_minor": 4
}
