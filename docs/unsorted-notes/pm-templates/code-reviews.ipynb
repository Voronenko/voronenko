{
 "cells": [
  {
   "cell_type": "markdown",
   "metadata": {},
   "source": [
    "Code reviews are a core part of our development process. Here is a short writeup on what we find important in code reviews.\n",
    "\n",
    "## Purpose\n",
    "\n",
    "The purpose of a code review are two-fold:\n",
    "\n",
    "- ensure a high quality codebase\n",
    "- share knowledge\n",
    "\n",
    "## Items to review\n",
    "\n",
    "- Does the code style, naming match our conventions?\n",
    "- Does the code conform to our best practices?\n",
    "- Does the code fit in the overall architecture? Is this functionality duplicated somewhere else?\n",
    "- Are there tests for the code change?\n",
    "- Is this code maintainable going forward?\n",
    "- If the person doing the review is familiar with the user story (likely on the same team), check whether the implemented logic looks correct\n",
    "\n",
    "## Comments / feedback / process\n",
    "\n",
    "- Record comments on the MR\n",
    "- If comments are a matter of style or choice, but don't necessarily need to be changed, indicate them as a *nitpick*. The PR can be merged without the nits being resolved.\n",
    "- In a sprint, pick up code reviews ASAP, it is the shortest path to getting something valuable into the product\n",
    "\n",
    "## Reference\n",
    "\n",
    "Check this [blog post](https://blog.pragmaticengineer.com/good-code-reviews-better-code-reviews/) for more details on how we see and do code reviews."
   ]
  }
 ],
 "metadata": {
  "kernelspec": {
   "display_name": "Python 3",
   "language": "python",
   "name": "python3"
  },
  "language_info": {
   "codemirror_mode": {
    "name": "ipython",
    "version": 3
   },
   "file_extension": ".py",
   "mimetype": "text/x-python",
   "name": "python",
   "nbconvert_exporter": "python",
   "pygments_lexer": "ipython3",
   "version": "3.7.0"
  }
 },
 "nbformat": 4,
 "nbformat_minor": 2
}
