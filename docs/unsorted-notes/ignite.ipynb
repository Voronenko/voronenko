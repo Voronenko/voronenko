{
 "cells": [
  {
   "cell_type": "markdown",
   "metadata": {},
   "source": [
    "```\n",
    "install-weaveworks-ignite:\n",
    "        curl -fLo ~/dotfiles/bin/ignite https://github.com/weaveworks/ignite/releases/download/v0.4.1/ignite\n",
    "        chmod +x ~/dotfiles/bin/ignite\n",
    "remove-weaveworks-ignite:\n",
    "        # Force-remove all running VMs\n",
    "        sudo ignite ps -q | xargs sudo ignite rm -f\n",
    "        # Remove the data directory\n",
    "        sudo rm -r /var/lib/firecracker\n",
    "        # Remove the Ignite binary\n",
    "        rm ~/dotfiles/bin/ignite\n",
    "```\n"
   ]
  }
 ],
 "metadata": {
  "kernelspec": {
   "display_name": "Python 3",
   "language": "python",
   "name": "python3"
  },
  "language_info": {
   "codemirror_mode": {
    "name": "ipython",
    "version": 3
   },
   "file_extension": ".py",
   "mimetype": "text/x-python",
   "name": "python",
   "nbconvert_exporter": "python",
   "pygments_lexer": "ipython3",
   "version": "3.7.0"
  }
 },
 "nbformat": 4,
 "nbformat_minor": 2
}
