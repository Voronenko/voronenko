{
 "cells": [
  {
   "cell_type": "markdown",
   "metadata": {},
   "source": [
    "/etc/openvpn/server.conf\n",
    "\n",
    "uncomment  \n",
    "```\n",
    "client-config-dir ccd\n",
    "```\n",
    "\n",
    "create in ccd/ file named by client, like ar150router"
   ]
  }
 ],
 "metadata": {
  "kernelspec": {
   "display_name": "Python 3",
   "language": "python",
   "name": "python3"
  },
  "language_info": {
   "codemirror_mode": {
    "name": "ipython",
    "version": 3
   },
   "file_extension": ".py",
   "mimetype": "text/x-python",
   "name": "python",
   "nbconvert_exporter": "python",
   "pygments_lexer": "ipython3",
   "version": "3.7.0"
  }
 },
 "nbformat": 4,
 "nbformat_minor": 2
}
