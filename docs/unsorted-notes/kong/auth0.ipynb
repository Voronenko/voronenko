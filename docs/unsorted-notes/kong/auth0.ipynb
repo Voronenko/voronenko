{
 "cells": [
  {
   "cell_type": "markdown",
   "metadata": {},
   "source": [
    "```\n",
    "#!/bin/bash\n",
    "DOMAIN=${1:-voronenko.au.auth0.com}\n",
    "KONG_API=http://localhost:8001\n",
    "\n",
    "PUBLIC_KEY=$(curl -sS https://${DOMAIN}/pem | openssl x509 -pubkey -noout)\n",
    "[[ -z $PUBLIC_KEY ]] && echo \"ERROR: could not retrieve public key of $PUBLIC_KEY\" && exit 1\n",
    "\n",
    "# add user\n",
    "curl -sS -i -X POST $KONG_API/consumers --data username=$DOMAIN\n",
    "\n",
    "# add public key to consumer\n",
    "curl -i -X POST $KONG_API/consumers/$DOMAIN/jwt \\\n",
    "    -F \"algorithm=RS256\" \\\n",
    "    -F \"rsa_public_key=${PUBLIC_KEY}\" \\\n",
    "    -F \"key=https://$DOMAIN/\" \n",
    "\n",
    "# add an sample API\n",
    "curl -i -X POST $KONG_API/apis \\\n",
    "    --data \"name=headers\" \\\n",
    "    --data \"hostnames=httpbin.org\" \\\n",
    "    --data \"upstream_url=http://httpbin.org/anything\" \n",
    "\n",
    "# add the JWT plugin on the Sample API\n",
    "curl -i -X POST $KONG_API/apis/headers/plugins \\\n",
    "    --data name=jwt\n",
    "```"
   ]
  }
 ],
 "metadata": {
  "kernelspec": {
   "display_name": "Python 3",
   "language": "python",
   "name": "python3"
  },
  "language_info": {
   "codemirror_mode": {
    "name": "ipython",
    "version": 3
   },
   "file_extension": ".py",
   "mimetype": "text/x-python",
   "name": "python",
   "nbconvert_exporter": "python",
   "pygments_lexer": "ipython3",
   "version": "3.7.0"
  }
 },
 "nbformat": 4,
 "nbformat_minor": 2
}
