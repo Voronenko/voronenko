{
 "cells": [
  {
   "cell_type": "code",
   "execution_count": null,
   "metadata": {},
   "outputs": [],
   "source": []
  },
  {
   "cell_type": "markdown",
   "metadata": {},
   "source": [
    "Policy to allow user self manage has creds and certificates\n",
    "\n",
    "```\n",
    "{\n",
    "    \"Version\": \"2012-10-17\",\n",
    "    \"Statement\": [\n",
    "        {\n",
    "            \"Effect\": \"Allow\",\n",
    "            \"Action\": [\n",
    "                \"iam:ListUsers\",\n",
    "                \"iam:GetAccountPasswordPolicy\"\n",
    "            ],\n",
    "            \"Resource\": \"*\"\n",
    "        },\n",
    "        {\n",
    "            \"Effect\": \"Allow\",\n",
    "            \"Action\": [\n",
    "                \"iam:*AccessKey*\",\n",
    "                \"iam:ChangePassword\",\n",
    "                \"iam:GetUser\",\n",
    "                \"iam:*ServiceSpecificCredential*\",\n",
    "                \"iam:*SigningCertificate*\"\n",
    "            ],\n",
    "            \"Resource\": [\"arn:aws:iam::*:user/${aws:username}\"]\n",
    "        }\n",
    "    ]\n",
    "}\n",
    "```"
   ]
  },
  {
   "cell_type": "markdown",
   "metadata": {},
   "source": [
    "# Powershell tricks  \n",
    "\n",
    "https://gist.github.com/Voronenko/afe101ebdfedc7056a1fde7800f751bf\n",
    "```ps\n",
    "Invoke-RestMethod -uri http://169.254.169.254/latest/meta-data/\n",
    "\n",
    "ami-id\n",
    "ami-launch-index\n",
    "ami-manifest-path\n",
    "block-device-mapping/\n",
    "events/\n",
    "hostname\n",
    "iam/\n",
    "identity-credentials/\n",
    "instance-action\n",
    "instance-id\n",
    "instance-type\n",
    "local-hostname\n",
    "local-ipv4\n",
    "mac\n",
    "metrics/\n",
    "network/\n",
    "placement/\n",
    "profile\n",
    "public-hostname\n",
    "public-ipv4\n",
    "public-keys/\n",
    "reservation-id\n",
    "security-groups\n",
    "services/\n",
    "\n",
    "$result = Invoke-RestMethod -uri http://169.254.169.254/latest/meta-data/ami-id\n",
    "```"
   ]
  }
 ],
 "metadata": {
  "kernelspec": {
   "display_name": "Python 3",
   "language": "python",
   "name": "python3"
  },
  "language_info": {
   "codemirror_mode": {
    "name": "ipython",
    "version": 3
   },
   "file_extension": ".py",
   "mimetype": "text/x-python",
   "name": "python",
   "nbconvert_exporter": "python",
   "pygments_lexer": "ipython3",
   "version": "3.7.0"
  }
 },
 "nbformat": 4,
 "nbformat_minor": 2
}
