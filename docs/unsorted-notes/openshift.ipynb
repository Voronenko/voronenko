{
 "cells": [
  {
   "cell_type": "markdown",
   "metadata": {},
   "source": [
    "## Authorization\n",
    "\n",
    "https://docs.okd.io/latest/architecture/additional_concepts/authorization.html\n",
    "\n",
    " shows the rule sets for the admin and basic-user default cluster roles:\n",
    "\n",
    "```\n",
    "oc describe clusterrole.rbac admin basic-user\n",
    "```"
   ]
  },
  {
   "cell_type": "markdown",
   "metadata": {},
   "source": [
    "## Service accounts\n",
    "\n",
    "`oc get sa`"
   ]
  },
  {
   "cell_type": "markdown",
   "metadata": {},
   "source": [
    "## Rolebinding\n",
    "\n",
    "|  z | z  |\n",
    "|---|---|\n",
    "| `$ oc adm policy who-can <verb> <resource>`   | Indicates which users can perform an action on a resource.  |\n",
    "| `$ oc adm policy add-role-to-user <role> <username>`   | Binds a given role to specified users in the current project.  |\n",
    "| `$ oc adm policy remove-role-from-user <role> <username>`  | Removes a given role from specified users in the current project.  |\n",
    "| `$ oc adm policy remove-user <username>`  | Removes specified users and all of their roles in the current project.  |\n",
    "| `$ oc adm policy add-role-to-group <role> <groupname>`  | Binds a given role to specified groups in the current project.  |\n",
    "| `$ oc adm policy remove-role-from-group <role> <groupname>`  | Removes a given role from specified groups in the current project.  |\n",
    "| `$ oc adm policy remove-group <groupname>`  | Removes specified groups and all of their roles in the current project.  |\n",
    "| `--rolebinding-name=`  | Can be used with oc adm policy commands to retain the rolebinding name assigned to a user or group.  |    \n",
    "\n"
   ]
  }
 ],
 "metadata": {
  "kernelspec": {
   "display_name": "Python 3",
   "language": "python",
   "name": "python3"
  },
  "language_info": {
   "codemirror_mode": {
    "name": "ipython",
    "version": 3
   },
   "file_extension": ".py",
   "mimetype": "text/x-python",
   "name": "python",
   "nbconvert_exporter": "python",
   "pygments_lexer": "ipython3",
   "version": "3.7.0"
  }
 },
 "nbformat": 4,
 "nbformat_minor": 2
}
